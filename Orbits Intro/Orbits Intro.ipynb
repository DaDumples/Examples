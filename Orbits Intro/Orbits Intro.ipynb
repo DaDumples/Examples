{
 "cells": [
  {
   "cell_type": "code",
   "execution_count": 4,
   "metadata": {},
   "outputs": [],
   "source": [
    "import numpy as np"
   ]
  },
  {
   "cell_type": "markdown",
   "metadata": {},
   "source": [
    "By Kent Rush\n"
    "Hey guys, welcome to math. A lot of what is expected of Aeros here is knowing orbits and how they work. The goal of this tutorial is to give you the basics you need to get started and participate in the proposal process.\n",
    "\n",
    "The skills you should by the end of this:\n",
    "\n",
    "1) Equations of motion of an orbit\n",
    "\n",
    "2) Vector math in Python\n",
    "\n",
    "3) Orbital Elements\n",
    "\n",
    "4) Two Line Elements and the SGP4 standard\n",
    "\n",
    "5) Intro to rotations and relevant refference frames\n",
    "\n",
    "6) Models of disturbances and how they work"
   ]
  },
  {
   "cell_type": "markdown",
   "metadata": {},
   "source": [
    "# Equations of Motion\n",
    "\n",
    "To begin, the fundamental equation of motion for an orbiting spacecraft.\n",
    "\n",
    "\\begin{equation}\n",
    "acceleration = \\ddot{\\vec{r}} = -\\frac{\\mu}{||\\vec{r}||^{3}}*\\vec{r}\n",
    "\\end{equation}\n",
    "\n",
    "\\begin{equation}\n",
    "velocity = \\int \\ddot{\\vec{r}}dx + \\vec{v_{0}}\n",
    "\\end{equation}\n",
    "\n",
    "\\begin{equation}\n",
    "position = \\int \\dot{\\vec{r}}dx  + \\vec{r_{0}}\n",
    "\\end{equation}\n",
    "\n",
    "\n",
    "\n",
    "\n",
    "Where $\\vec{r}$ represents position and $\\ddot{\\vec{r}}$ represents acceleration, aka the second derivative of position. $\\mu$ is called the \"Gravitational Parameter\". For earth it is 398600$\\frac{km^3}{sec}$. This value is entirely a function of the mass of the body you are orbiting.\n",
    "\n",
    "So how do we use this in code to plot an orbit?"
   ]
  },
  {
   "cell_type": "markdown",
   "metadata": {},
   "source": [
    "# Vector Math in Python\n",
    "\n",
    "This tutorial will have Python math sprinkled all over it ideally, so here are the basics of what that looks like."
   ]
  },
  {
   "cell_type": "code",
   "execution_count": 5,
   "metadata": {},
   "outputs": [
    {
     "name": "stdout",
     "output_type": "stream",
     "text": [
      "3\n",
      "16\n",
      "4.0\n",
      "0.36787944117144233\n"
     ]
    }
   ],
   "source": [
    "# This is a comment, denoted by the # Symbol\n",
    "\n",
    "#Scalar math\n",
    "\n",
    "#addition\n",
    "x = 1 + 2\n",
    "print(x)\n",
    "\n",
    "#powers\n",
    "x = 4**2 #4 to the power 2\n",
    "print(x)\n",
    "\n",
    "x = np.sqrt(16) # square root, aka 16**0.5\n",
    "print(x)\n",
    "\n",
    "x = np.exp(-1) # e to the power -1, using numpy\n",
    "print(x)\n",
    "\n"
   ]
  },
  {
   "cell_type": "markdown",
   "metadata": {},
   "source": [
    "Python does not have vectors natively, but thankfully the library \"numpy\" exist. It is so ubiquitous that it is basically cannon at this point. for some reason matrices and vectors are reffered to as \"arrays\" within numpy. "
   ]
  },
  {
   "cell_type": "code",
   "execution_count": 6,
   "metadata": {},
   "outputs": [
    {
     "name": "stdout",
     "output_type": "stream",
     "text": [
      "A:\n",
      "[[1 3 3]\n",
      " [2 4 5]\n",
      " [8 7 6]]\n",
      "B:\n",
      "[[1. 0. 0.]\n",
      " [0. 1. 0.]\n",
      " [0. 0. 1.]]\n",
      "A + B:\n",
      "[[2. 3. 3.]\n",
      " [2. 5. 5.]\n",
      " [8. 7. 7.]]\n"
     ]
    }
   ],
   "source": [
    "import numpy as np\n",
    "\n",
    "#Basic matrix addition\n",
    "\n",
    "A = np.array([[1, 3, 3],\n",
    "              [2, 4, 5],\n",
    "              [8, 7, 6]])\n",
    "print('A:')\n",
    "print(A)\n",
    "\n",
    "B = np.identity(3)\n",
    "print('B:')\n",
    "print(B)\n",
    "\n",
    "C = A + B\n",
    "print('A + B:')\n",
    "print(C)"
   ]
  },
  {
   "cell_type": "markdown",
   "metadata": {},
   "source": [
    "Now say you want to solve a system of equations for $x$ when $y = A*x$. The solution is $x = A^{-1}*y$. Implementing this in Python looks like this."
   ]
  },
  {
   "cell_type": "code",
   "execution_count": 7,
   "metadata": {},
   "outputs": [
    {
     "name": "stdout",
     "output_type": "stream",
     "text": [
      "[ 1.63157895 -3.78947368  3.57894737] How yucky.\n"
     ]
    }
   ],
   "source": [
    "y = np.array([1, 6, 8])\n",
    "\n",
    "x = np.linalg.inv(A)@y\n",
    "\n",
    "print(x, end = ' ')\n",
    "print('How yucky.')"
   ]
  },
  {
   "cell_type": "markdown",
   "metadata": {},
   "source": [
    "The @ operator performs matrix multiplication, the normal * operator does element wise multiplication. This is a difference between Matlab and Python.\n",
    "\n",
    "So, now that we have the basics of math in python, how might we go back to our equations of motion?"
   ]
  },
  {
   "cell_type": "code",
   "execution_count": 8,
   "metadata": {},
   "outputs": [
    {
     "name": "stdout",
     "output_type": "stream",
     "text": [
      "[0.         0.         0.00511659]\n"
     ]
    }
   ],
   "source": [
    "def gravitational_acceleration(r):\n",
    "    mu = 398600\n",
    "    acceleration = -mu*r/np.linalg.norm(r)**3\n",
    "    return acceleration\n",
    "    \n",
    "r0 = np.array([0, 0, 6378 + 400])\n",
    "print(gravitational_acceleration(r0))\n",
    "    "
   ]
  },
  {
   "cell_type": "markdown",
   "metadata": {},
   "source": [
    "Notice I defined r0 to have a magnitude of 6378 + 400. 6378 is the radius of the earth in $km$ and 400 is a standard orbital altitude. Notice that we are using $km$, not meters and that the acceleration is in $km/sec^2$. Later, for velocity we will use $km/sec$. These units are much easier to work with on these scales than meters.\n",
    "\n",
    "Lets say you have a spacecraft with an initial position and velocity, lets plot its orbit for a while. For this we will need to import a library to solve ordinary diferential equations. You will get into this more in your classes, for now just learn how to use it and ask us questions."
   ]
  },
  {
   "cell_type": "code",
   "execution_count": 9,
   "metadata": {},
   "outputs": [
    {
     "name": "stdout",
     "output_type": "stream",
     "text": [
      "[   0.            0.         6778.            0.            7.66863143\n",
      "    0.        ]\n"
     ]
    }
   ],
   "source": [
    "from scipy.integrate import ode\n",
    "\n",
    "mu = 398600\n",
    "r0 = np.array([0, 0, 6378 + 400])\n",
    "v0 = np.array([0, np.sqrt(mu/np.linalg.norm(r0)), 0]) #equation for velocity of a circular orbit = sqrt(mu/r)\n",
    "\n",
    "t0 = 0 #initial time\n",
    "state0 = np.hstack([r0, v0])\n",
    "\n",
    "def equations_of_motion(t, state, mu): #state derivative function must take time, the state, and constants as parameters\n",
    "    position = state[0:3]\n",
    "    velocity = state[3:6]\n",
    "    \n",
    "    velocity_derivative = -mu*position/np.linalg.norm(position)**3 #aka acceleration\n",
    "    position_derivative = velocity\n",
    "    \n",
    "    return np.hstack([position_derivative, velocity_derivative])\n",
    "\n",
    "solver = ode(equations_of_motion) #pass a function that calculates the derivatives of all the states\n",
    "solver.set_integrator('lsoda') #dont worry about this, you get to pick which fortran algorythm you want to use. Theres a list, they all work.\n",
    "solver.set_initial_value(state0, t0) #set initial state and time\n",
    "solver.set_f_params(mu) #set the constants that we pass to the function\n",
    "\n",
    "newstates = []\n",
    "times = []\n",
    "\n",
    "simulation_time = 60*60 #1 hour\n",
    "dt = 1\n",
    "while solver.successful() and solver.t < simulation_time:\n",
    "    newstates.append(solver.y) #y is the state of the simulation [pos, vel]\n",
    "    times.append(solver.t) #t is the time of the simulation in seconds\n",
    "    solver.integrate(solver.t + dt)\n",
    "    \n",
    "newstates = np.vstack(newstates)\n",
    "times = np.hstack(times)\n",
    "\n",
    "print(newstates[0])\n",
    "    "
   ]
  },
  {
   "cell_type": "markdown",
   "metadata": {},
   "source": [
    "Now to plot the orbit."
   ]
  },
  {
   "cell_type": "code",
   "execution_count": 10,
   "metadata": {},
   "outputs": [
    {
     "data": {
      "image/png": "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\n",
      "text/plain": [
       "<Figure size 432x288 with 1 Axes>"
      ]
     },
     "metadata": {
      "needs_background": "light"
     },
     "output_type": "display_data"
    }
   ],
   "source": [
    "%matplotlib inline\n",
    "import matplotlib.pyplot as plt\n",
    "from mpl_toolkits.mplot3d import Axes3D\n",
    "\n",
    "fig = plt.figure()\n",
    "ax = Axes3D(fig)\n",
    "ax.plot(newstates[:,0], newstates[:,1], newstates[:,2])\n",
    "plt.show()"
   ]
  },
  {
   "cell_type": "markdown",
   "metadata": {},
   "source": [
    "Wow, beautiful."
   ]
  },
  {
   "cell_type": "markdown",
   "metadata": {},
   "source": [
    "# Orbital Elements\n",
    "\n",
    "So thats the nitty gritty on how to propagate an orbit. That is the most numerical and functional way, there is another that is more elegant and strange. Welcome to Keplerian Elements.\n",
    "\n",
    "Every orbit can be described by 6 parameters. These are $Semimajor Axis$, $Eccentricity$, $True Anomaly$, $Inclination$, $Right Accension$, and $Argument of Perigee$.\n",
    "\n",
    "This is a super hand-wavy description. For now it is important to know what they are and to know how to convert between them. The textbooks in lab will have more satisfying explanations than what I can write.\n",
    "\n",
    "#### Semimajor Axis\n",
    "This is simply the average of the altitude at periapsis and the altitude at apoapsis.\n",
    "\n",
    "#### Eccentricity\n",
    "This is the normalized difference between the apoapsis and periapsis, basically how circular the orbit is. 0 is perfectly circular, 1 means you are flying out of the system.\n",
    "\n",
    "#### True Anomaly\n",
    "This is the angular position of your spacecraft along its orbit.\n",
    "\n",
    "#### Inclination, Right Ascention, Argument of perigee\n",
    "These are hard to visualize. You can google it. The only one that is important to understand conceptually is inclination. Inclination is the angle between the plane of your orbit and the earths pole. An equatorial orbit is an inclination of 0.\n",
    "\n",
    "These are all angles, they represent the orientation of your orbit in 3D space.\n",
    "\n",
    "## Conversion Between State Vector and Orbital Elements\n",
    "\n",
    "You will 100% need these conversions. I will leave it as a homework assignment for you to write these functions yourself. You can find the algorythm to convert a state vector to orbital elements on page 196 in Orbital Mechanics for Engineering Students. For the converse conversion, look at the section on page 216 for help. Ideally I want to help yall out with this stuff in person."
   ]
  },
  {
   "cell_type": "markdown",
   "metadata": {},
   "source": [
    "# Two Line Elements\n",
    "\n",
    "Real spacecraft exist and people usually want to know where they are. Thankfully the government provides a free and international service for tracking and identifying space objects that are larger than 10cm. If you visit https://www.celestrak.com/NORAD/elements/ you cand find the Two Line Elements for a bunch of popular spacecraft. Also from now on we are calling them TLE's.\n",
    "\n",
    "Understanding TLEs and knowing how to use them is essential for spacecraft operations. We use programs such as Orbitron or Macdoppler which deal with TLEs under the hood.\n",
    "\n",
    "#### Things to Know\n",
    "Some important things to know about TLE's:\n",
    "1) They expire every two weeks. TLE's describe an ideal keplerian orbit and because of perturbations that are unpredictable this becomes less and less accurate as time goes on.\n",
    "\n",
    "2) The are accurate to about +/- 3 km. They are usually better the fresher a TLE is.\n",
    "\n",
    "3) They are meant to be interpreted by the spg propagator. Not many people know what hte actual code looks like, but it is open source on just about every programming language.\n",
    "\n",
    "4) You must use a historical TLE if you want to know where a spacecraft was more than two weeks in the past. Do not use the current TLE for the ISS if you want to know if it was over your house during new years of 2007.\n",
    "\n",
    "\n",
    "#### What does one look like? Sorry you asked...\n",
    "A TLE is literally two lines of text compressed in the most contrived way possible. The format was originally created when computer memory was extremely limited and so now we have to deal with it. This is what a TLE looks like:\n",
    "\n",
    "![TLE](example_tle.png)\n",
    "\n",
    "Check out this URl for a character by character breakdown. https://www.celestrak.com/NORAD/documentation/tle-fmt.php\n",
    "\n",
    "I think that the only super usefull thing to get out of a TLE from sight at the moment is the launch date, ID, and the date at which the TLE was taken. Here is a beautiful annotation.\n",
    "\n",
    "![Very nice](tlew.png)\n",
    "\n",
    "\n",
    "## So how do I use this SGP4 thing?\n",
    "Yeah sure. SGP stands for \"simplified perturbations model\". So it does actually account for perturbations a little, mostly drag. Heres how you would go about using it in python.\n"
   ]
  },
  {
   "cell_type": "code",
   "execution_count": 12,
   "metadata": {},
   "outputs": [
    {
     "name": "stdout",
     "output_type": "stream",
     "text": [
      "2019-08-12 00:00:00\n",
      "Position   [km]:  (169.45365663130372, 1670.5715595517124, -6820.732271453856)\n",
      "Velocity [km/s]:  (3.9037422940968374, -6.268371283977405, -1.4581398072831964)\n"
     ]
    }
   ],
   "source": [
    "from sgp4.earth_gravity import wgs84\n",
    "from sgp4.io import twoline2rv\n",
    "import datetime\n",
    "\n",
    "line1 = \"1 41788U 16059F   19219.20080378  .00004599  00000-0  69683-3 0  9991\"\n",
    "line2 = \"2 41788  98.2414 295.3950 0027599 208.1768 151.7974 14.74406613153307\"\n",
    "\n",
    "spacecraft = twoline2rv(line1, line2, wgs84)\n",
    "\n",
    "#You can see this TLE was taken on the 219th day of 2019. I will pick a date close to that\n",
    "#I will use a datetime object to do the gross math for me\n",
    "\n",
    "#starting at newyears on 2019 and then adding 223 days to it.\n",
    "date = datetime.datetime(year = 2019, month = 1, day = 1) + datetime.timedelta(days = 223)\n",
    "\n",
    "print(date)\n",
    "\n",
    "position, velocity = spacecraft.propagate(date.year, date.month, date.day, date.hour, date.minute, date.second)\n",
    "\n",
    "print(\"Position   [km]: \", position)\n",
    "print(\"Velocity [km/s]: \", velocity)\n",
    "\n"
   ]
  },
  {
   "cell_type": "code",
   "execution_count": null,
   "metadata": {},
   "outputs": [],
   "source": []
  }
 ],
 "metadata": {
  "kernelspec": {
   "display_name": "Python 3",
   "language": "python",
   "name": "python3"
  },
  "language_info": {
   "codemirror_mode": {
    "name": "ipython",
    "version": 3
   },
   "file_extension": ".py",
   "mimetype": "text/x-python",
   "name": "python",
   "nbconvert_exporter": "python",
   "pygments_lexer": "ipython3",
   "version": "3.7.3"
  }
 },
 "nbformat": 4,
 "nbformat_minor": 2
}
