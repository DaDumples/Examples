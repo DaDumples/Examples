{
 "cells": [
  {
   "cell_type": "code",
   "execution_count": 1,
   "metadata": {},
   "outputs": [],
   "source": [
    "import numpy as np"
   ]
  },
  {
   "cell_type": "markdown",
   "metadata": {},
   "source": [
    "Hey guys, welcome to math. A lot of what is expected of Aeros here is knowing orbits and how they work. The goal of this tutorial is to give you the basics you need to get started and participate in the proposal process.\n",
    "\n",
    "The skills you should by the end of this:\n",
    "\n",
    "1) Equations of motion of an orbit\n",
    "\n",
    "2) Vector math in Python\n",
    "\n",
    "3) Orbital Elements\n",
    "\n",
    "4) Two Line Elements and the SGP4 standard\n",
    "\n",
    "5) Intro to rotations and relevant refference frames\n",
    "\n",
    "6) Models of disturbances and how they work"
   ]
  },
  {
   "cell_type": "markdown",
   "metadata": {},
   "source": [
    "# Equations of Motion\n",
    "\n",
    "To begin, the fundamental equation of motion for an orbiting spacecraft.\n",
    "\n",
    "\\begin{equation}\n",
    "acceleration = \\ddot{\\vec{r}} = -\\frac{\\mu}{||\\vec{r}||^{3}}*\\vec{r}\n",
    "\\end{equation}\n",
    "\n",
    "\\begin{equation}\n",
    "velocity = \\int \\ddot{\\vec{r}}dx + \\vec{v_{0}}\n",
    "\\end{equation}\n",
    "\n",
    "\\begin{equation}\n",
    "position = \\int \\dot{\\vec{r}}dx  + \\vec{r_{0}}\n",
    "\\end{equation}\n",
    "\n",
    "\n",
    "\n",
    "\n",
    "Where $\\vec{r}$ represents position and $\\ddot{\\vec{r}}$ represents acceleration, aka the second derivative of position. $\\mu$ is called the \"Gravitational Parameter\". For earth it is 398600$\\frac{km^3}{sec}$. This value is entirely a function of the mass of the body you are orbiting.\n",
    "\n",
    "So how do we use this in code to plot an orbit?"
   ]
  },
  {
   "cell_type": "markdown",
   "metadata": {},
   "source": [
    "# Vector Math in Python\n",
    "\n",
    "This tutorial will have Python math sprinkled all over it ideally, so here are the basics of what that looks like."
   ]
  },
  {
   "cell_type": "code",
   "execution_count": 2,
   "metadata": {},
   "outputs": [
    {
     "name": "stdout",
     "output_type": "stream",
     "text": [
      "3\n",
      "16\n",
      "4.0\n",
      "0.36787944117144233\n"
     ]
    }
   ],
   "source": [
    "# This is a comment, denoted by the # Symbol\n",
    "\n",
    "#Scalar math\n",
    "\n",
    "#addition\n",
    "x = 1 + 2\n",
    "print(x)\n",
    "\n",
    "#powers\n",
    "x = 4**2 #4 to the power 2\n",
    "print(x)\n",
    "\n",
    "x = np.sqrt(16) # square root, aka 16**0.5\n",
    "print(x)\n",
    "\n",
    "x = np.exp(-1) # e to the power -1, using numpy\n",
    "print(x)\n",
    "\n"
   ]
  },
  {
   "cell_type": "markdown",
   "metadata": {},
   "source": [
    "Python does not have vectors natively, but thankfully the library \"numpy\" exist. It is so ubiquitous that it is basically cannon at this point. for some reason matrices and vectors are reffered to as \"arrays\" within numpy. "
   ]
  },
  {
   "cell_type": "code",
   "execution_count": 3,
   "metadata": {},
   "outputs": [
    {
     "name": "stdout",
     "output_type": "stream",
     "text": [
      "A:\n",
      "[[1 3 3]\n",
      " [2 4 5]\n",
      " [8 7 6]]\n",
      "B:\n",
      "[[1. 0. 0.]\n",
      " [0. 1. 0.]\n",
      " [0. 0. 1.]]\n",
      "A + B:\n",
      "[[2. 3. 3.]\n",
      " [2. 5. 5.]\n",
      " [8. 7. 7.]]\n"
     ]
    }
   ],
   "source": [
    "import numpy as np\n",
    "\n",
    "#Basic matrix addition\n",
    "\n",
    "A = np.array([[1, 3, 3],\n",
    "              [2, 4, 5],\n",
    "              [8, 7, 6]])\n",
    "print('A:')\n",
    "print(A)\n",
    "\n",
    "B = np.identity(3)\n",
    "print('B:')\n",
    "print(B)\n",
    "\n",
    "C = A + B\n",
    "print('A + B:')\n",
    "print(C)"
   ]
  },
  {
   "cell_type": "markdown",
   "metadata": {},
   "source": [
    "Now say you want to solve a system of equations for $x$ when $y = A*x$. The solution is $x = A^{-1}*y$. Implementing this in Python looks like this."
   ]
  },
  {
   "cell_type": "code",
   "execution_count": 4,
   "metadata": {},
   "outputs": [
    {
     "name": "stdout",
     "output_type": "stream",
     "text": [
      "[ 1.63157895 -3.78947368  3.57894737] How yucky.\n"
     ]
    }
   ],
   "source": [
    "y = np.array([1, 6, 8])\n",
    "\n",
    "x = np.linalg.inv(A)@y\n",
    "\n",
    "print(x, end = ' ')\n",
    "print('How yucky.')"
   ]
  },
  {
   "cell_type": "markdown",
   "metadata": {},
   "source": [
    "The @ operator performs matrix multiplication, the normal * operator does element wise multiplication. This is a difference between Matlab and Python.\n",
    "\n",
    "So, now that we have the basics of math in python, how might we go back to our equations of motion?"
   ]
  },
  {
   "cell_type": "code",
   "execution_count": 5,
   "metadata": {},
   "outputs": [
    {
     "name": "stdout",
     "output_type": "stream",
     "text": [
      "[0.         0.         0.00511659]\n"
     ]
    }
   ],
   "source": [
    "def gravitational_acceleration(r):\n",
    "    mu = 398600\n",
    "    acceleration = -mu*r/np.linalg.norm(r)**3\n",
    "    return acceleration\n",
    "    \n",
    "r0 = np.array([0, 0, 6378 + 400])\n",
    "print(gravitational_acceleration(r0))\n",
    "    "
   ]
  },
  {
   "cell_type": "markdown",
   "metadata": {},
   "source": [
    "Notice I defined r0 to have a magnitude of 6378 + 400. 6378 is the radius of the earth in $km$ and 400 is a standard orbital altitude. Notice that we are using $km$, not meters and that the acceleration is in $km/sec^2$. Later, for velocity we will use $km/sec$. These units are much easier to work with on these scales than meters.\n",
    "\n",
    "Lets say you have a spacecraft with an initial position and velocity, lets plot its orbit for a while. For this we will need to import a library to solve ordinary diferential equations. You will get into this more in your classes, for now just learn how to use it and ask us questions."
   ]
  },
  {
   "cell_type": "code",
   "execution_count": 7,
   "metadata": {},
   "outputs": [
    {
     "name": "stdout",
     "output_type": "stream",
     "text": [
      "[   0.            0.         6778.            0.            7.66863143\n",
      "    0.        ]\n"
     ]
    }
   ],
   "source": [
    "from scipy.integrate import ode\n",
    "\n",
    "mu = 398600\n",
    "r0 = np.array([0, 0, 6378 + 400])\n",
    "v0 = np.array([0, np.sqrt(mu/np.linalg.norm(r0)), 0]) #equation for velocity of a circular orbit = sqrt(mu/r)\n",
    "\n",
    "t0 = 0 #initial time\n",
    "state0 = np.hstack([r0, v0])\n",
    "\n",
    "def equations_of_motion(t, state, mu): #state derivative function must take time, the state, and constants as parameters\n",
    "    position = state[0:3]\n",
    "    velocity = state[3:6]\n",
    "    \n",
    "    velocity_derivative = -mu*position/np.linalg.norm(position)**3 #aka acceleration\n",
    "    position_derivative = velocity\n",
    "    \n",
    "    return np.hstack([position_derivative, velocity_derivative])\n",
    "\n",
    "solver = ode(equations_of_motion) #pass a function that calculates the derivatives of all the states\n",
    "solver.set_integrator('lsoda') #dont worry about this, you get to pick which fortran algorythm you want to use. Theres a list, they all work.\n",
    "solver.set_initial_value(state0, t0) #set initial state and time\n",
    "solver.set_f_params(mu) #set the constants that we pass to the function\n",
    "\n",
    "newstates = []\n",
    "times = []\n",
    "\n",
    "simulation_time = 60*60 #1 hour\n",
    "dt = 1\n",
    "while solver.successful() and solver.t < simulation_time:\n",
    "    newstates.append(solver.y) #y is the state of the simulation [pos, vel]\n",
    "    times.append(solver.t) #t is the time of the simulation in seconds\n",
    "    solver.integrate(solver.t + dt)\n",
    "    \n",
    "newstates = np.vstack(newstates)\n",
    "times = np.hstack(times)\n",
    "\n",
    "print(newstates[0])\n",
    "    "
   ]
  },
  {
   "cell_type": "markdown",
   "metadata": {},
   "source": [
    "Now to plot the orbit."
   ]
  },
  {
   "cell_type": "code",
   "execution_count": 8,
   "metadata": {},
   "outputs": [
    {
     "data": {
      "image/png": "[encoded data removed]",
      "text/plain": [
       "<Figure size 432x288 with 1 Axes>"
      ]
     },
     "metadata": {
      "needs_background": "light"
     },
     "output_type": "display_data"
    }
   ],
   "source": [
    "%matplotlib inline\n",
    "import matplotlib.pyplot as plt\n",
    "\n",
    "fig = plt.figure()\n",
    "ax = plt.axes(projection = '3d')\n",
    "ax.scatter(newstates[:,0], newstates[:,1], newstates[:,2])\n",
    "plt.show()"
   ]
  },
  {
   "cell_type": "markdown",
   "metadata": {},
   "source": [
    "Wow, beautiful."
   ]
  },
  {
   "cell_type": "markdown",
   "metadata": {},
   "source": [
    "# Orbital Elements\n",
    "\n",
    "So thats the nitty gritty on how to propagate an orbit. That is the most numerical and functional way, there is another that is more elegant and strange. Welcome to Keplerian Elements.\n",
    "\n",
    "Every orbit can be described by 6 parameters. These are $Semimajor Axis$, $Eccentricity$, $True Anomaly$, $Inclination$, $Right Accension$, and $Argument of Perigee$.\n",
    "\n",
    "This is a super hand-wavy description. For now it is important to know what they are and to know how to convert between them. The textbooks in lab will have more satisfying explanations than what I can write.\n",
    "\n",
    "#### Semimajor Axis\n",
    "This is simply the average of the altitude at periapsis and the altitude at apoapsis.\n",
    "\n",
    "#### Eccentricity\n",
    "This is the normalized difference between the apoapsis and periapsis, basically how circular the orbit is. 0 is perfectly circular, 1 means you are flying out of the system.\n",
    "\n",
    "#### True Anomaly\n",
    "This is the angular position of your spacecraft along its orbit. See $\\theta$ in the image below.\n",
    "\n",
    "#### Inclination, Right Ascention, Argument of perigee\n",
    "These are hard to visualize. You can google it. The only one that is important to understand conceptually is inclination. Inclination is the angle between the plane of your orbit and the earths pole. An equatorial orbit is an inclination of 0.\n",
    "\n",
    "These are all angles, they represent the orientation of your orbit in 3D space.\n",
    "\n",
    "![Semimajor axis and stuff](orbit.png)\n",
    "\n",
    "## Conversion Between State Vector and Orbital Elements\n",
    "\n",
    "You will 100% need these conversions. I will leave it as a homework assignment for you to write these functions yourself. You can find the algorythm to convert a state vector to orbital elements on page 196 in Orbital Mechanics for Engineering Students. For the converse conversion, look at the section on page 216 for help. Ideally I want to help yall out with this stuff in person."
   ]
  },
  {
   "cell_type": "markdown",
   "metadata": {},
   "source": [
    "# Two Line Elements\n",
    "\n",
    "Real spacecraft exist and people usually want to know where they are. Thankfully the government provides a free and international service for tracking and identifying space objects that are larger than 10cm. If you visit https://www.celestrak.com/NORAD/elements/ you cand find the Two Line Elements for a bunch of popular spacecraft. Also from now on we are calling them TLE's.\n",
    "\n",
    "Understanding TLEs and knowing how to use them is essential for spacecraft operations. We use programs such as Orbitron or Macdoppler which deal with TLEs under the hood.\n",
    "\n",
    "#### Things to Know\n",
    "Some important things to know about TLE's:\n",
    "1) They expire every two weeks. TLE's describe an ideal keplerian orbit and because of perturbations that are unpredictable this becomes less and less accurate as time goes on.\n",
    "\n",
    "2) The are accurate to about +/- 3 km. They are usually better the fresher a TLE is.\n",
    "\n",
    "3) They are meant to be interpreted by the spg propagator. Not many people know what hte actual code looks like, but it is open source on just about every programming language.\n",
    "\n",
    "4) You must use a historical TLE if you want to know where a spacecraft was more than two weeks in the past. Do not use the current TLE for the ISS if you want to know if it was over your house during new years of 2007.\n",
    "\n",
    "\n",
    "#### What does one look like? Sorry you asked...\n",
    "A TLE is literally two lines of text compressed in the most contrived way possible. The format was originally created when computer memory was extremely limited and so now we have to deal with it. This is what a TLE looks like:\n",
    "\n",
    "![TLE](example_tle.png)\n",
    "\n",
    "And this is the table explaining what it means character by character.\n",
    "\n",
    "![HOLY CRAP!](tle_chart.png)\n",
    "\n",
    "I think that the only super usefull thing to get out of a TLE from sight at the moment is the launch date, ID, and the date at which the TLE was taken. Here is a beautiful annotation.\n",
    "\n",
    "![Very nice](tlew.png)\n",
    "\n",
    "\n",
    "## So how do I use this SGP4 thing?\n",
    "Yeah sure. SGP stands for \"simplified perturbations model\". So it does actually account for perturbations a little, mostly drag. Heres how you would go about using it in python.\n"
   ]
  },
  {
   "cell_type": "code",
   "execution_count": 7,
   "metadata": {},
   "outputs": [
    {
     "name": "stdout",
     "output_type": "stream",
     "text": [
      "2019-08-12 00:00:00\n",
      "Position   [km]:  (169.45365663130372, 1670.5715595517124, -6820.732271453856)\n",
      "Velocity [km/s]:  (3.9037422940968374, -6.268371283977405, -1.4581398072831964)\n"
     ]
    }
   ],
   "source": [
    "from sgp4.earth_gravity import wgs84\n",
    "from sgp4.io import twoline2rv\n",
    "import datetime\n",
    "\n",
    "line1 = \"1 41788U 16059F   19219.20080378  .00004599  00000-0  69683-3 0  9991\"\n",
    "line2 = \"2 41788  98.2414 295.3950 0027599 208.1768 151.7974 14.74406613153307\"\n",
    "\n",
    "spacecraft = twoline2rv(line1, line2, wgs84)\n",
    "\n",
    "#You can see this TLE was taken on the 219th day of 2019. I will pick a date close to that\n",
    "#I will use a datetime object to do the gross math for me\n",
    "\n",
    "#starting at newyears on 2019 and then adding 223 days to it.\n",
    "date = datetime.datetime(year = 2019, month = 1, day = 1) + datetime.timedelta(days = 223)\n",
    "\n",
    "print(target_date)\n",
    "\n",
    "position, velocity = spacecraft.propagate(date.year, date.month, date.day, date.hour, date.minute, date.second)\n",
    "\n",
    "print(\"Position   [km]: \", position)\n",
    "print(\"Velocity [km/s]: \", velocity)\n",
    "\n"
   ]
  },
  {
   "cell_type": "code",
   "execution_count": null,
   "metadata": {},
   "outputs": [],
   "source": []
  }
 ],
 "metadata": {
  "kernelspec": {
   "display_name": "Python 3",
   "language": "python",
   "name": "python3"
  },
  "language_info": {
   "codemirror_mode": {
    "name": "ipython",
    "version": 3
   },
   "file_extension": ".py",
   "mimetype": "text/x-python",
   "name": "python",
   "nbconvert_exporter": "python",
   "pygments_lexer": "ipython3",
   "version": "3.7.3"
  }
 },
 "nbformat": 4,
 "nbformat_minor": 2
}
